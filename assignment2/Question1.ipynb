{
 "cells": [
  {
   "cell_type": "code",
   "execution_count": 241,
   "metadata": {
    "collapsed": false
   },
   "outputs": [],
   "source": [
    "import h5py\n",
    "import numpy as np\n",
    "import scipy.io\n",
    "import matplotlib.pyplot as plt\n",
    "\n",
    "from sklearn.preprocessing import scale\n",
    "from sklearn.neighbors import KNeighborsClassifier\n",
    "from sklearn.model_selection import KFold\n",
    "\n",
    "from collections import OrderedDict\n",
    "from operator import itemgetter\n",
    "from sklearn.model_selection import GridSearchCV\n",
    "from sklearn.svm import SVC\n",
    "from sklearn import tree\n",
    "from sklearn.ensemble import RandomForestClassifier\n",
    "\n",
    "from keras.models import Sequential, Model\n",
    "from keras.layers import Dense, Input\n",
    "from keras.utils import np_utils\n",
    "\n",
    "%matplotlib inline"
   ]
  },
  {
   "cell_type": "markdown",
   "metadata": {},
   "source": [
    "# Loading data"
   ]
  },
  {
   "cell_type": "code",
   "execution_count": 441,
   "metadata": {
    "collapsed": false
   },
   "outputs": [
    {
     "name": "stdout",
     "output_type": "stream",
     "text": [
      "Succesfully loaded data!\n",
      "Data D features shape: (2200, 57)\n",
      "Labels shape: (2200,)\n"
     ]
    }
   ],
   "source": [
    "dataD = scipy.io.loadmat('./DataD.mat')\n",
    "\n",
    "features = dataD['fea']\n",
    "labels = dataD['gnd']\n",
    "labels[labels == -1] = 0\n",
    "labels = labels.ravel()\n",
    "\n",
    "print('Succesfully loaded data!')\n",
    "print(\"Data D features shape:\", features.shape)\n",
    "print(\"Labels shape:\", labels.shape)"
   ]
  },
  {
   "cell_type": "markdown",
   "metadata": {},
   "source": [
    "# Preprocessing data"
   ]
  },
  {
   "cell_type": "code",
   "execution_count": 442,
   "metadata": {
    "collapsed": false
   },
   "outputs": [
    {
     "name": "stdout",
     "output_type": "stream",
     "text": [
      "Train data shape: (1100, 57)\n",
      "Test data shape: (1100, 57)\n"
     ]
    },
    {
     "name": "stderr",
     "output_type": "stream",
     "text": [
      "/home/olivier/anaconda3/lib/python3.5/site-packages/sklearn/utils/validation.py:429: DataConversionWarning: Data with input dtype uint8 was converted to float64 by the scale function.\n",
      "  warnings.warn(msg, _DataConversionWarning)\n"
     ]
    }
   ],
   "source": [
    "features_scaled = scale(features)\n",
    "half = int(len(features_scaled) / 2)\n",
    "\n",
    "X_train = features_scaled[:half]\n",
    "X_test = features_scaled[half:]\n",
    "\n",
    "y_train = labels[:half]\n",
    "y_test = labels[half:]\n",
    "\n",
    "print(\"Train data shape:\", X_train.shape)\n",
    "print(\"Test data shape:\", X_test.shape)"
   ]
  },
  {
   "cell_type": "markdown",
   "metadata": {},
   "source": [
    "# 1. k-NN\n",
    "\n",
    "Using 5-fold cross validation\n",
    "(the crossvalind function can help) on the training set evaluate k-NN on\n",
    "the values k=[1, 3, 5, 7, ..., 31]. Plot a figure that shows the relationship between\n",
    "the accuracy and the parameter k. Report the best k in terms of classification accuracy."
   ]
  },
  {
   "cell_type": "code",
   "execution_count": 145,
   "metadata": {
    "collapsed": false
   },
   "outputs": [
    {
     "data": {
      "text/plain": [
       "OrderedDict([(7, 0.71545454545454545),\n",
       "             (11, 0.71181818181818191),\n",
       "             (13, 0.71090909090909093),\n",
       "             (9, 0.70909090909090922),\n",
       "             (15, 0.70363636363636373),\n",
       "             (1, 0.70181818181818179),\n",
       "             (5, 0.70181818181818179),\n",
       "             (17, 0.69999999999999996),\n",
       "             (3, 0.69727272727272727),\n",
       "             (19, 0.68818181818181823),\n",
       "             (21, 0.68818181818181812),\n",
       "             (23, 0.68636363636363629),\n",
       "             (25, 0.67727272727272725),\n",
       "             (31, 0.67636363636363639),\n",
       "             (27, 0.67454545454545456),\n",
       "             (29, 0.67363636363636359)])"
      ]
     },
     "execution_count": 145,
     "metadata": {},
     "output_type": "execute_result"
    }
   ],
   "source": [
    "kf = KFold(n_splits=5)\n",
    "k_accuracies = {}\n",
    "\n",
    "k_neighbors = [i for i in range(1, 32, 2)]\n",
    "for k in k_neighbors:\n",
    "    clf = KNeighborsClassifier(n_neighbors=k)\n",
    "    acc = []\n",
    "    for train, test in kf.split(X_train):\n",
    "        clf.fit(X_train[train], y_train[train])\n",
    "        acc.append(clf.score(X_train[test], y_train[test]))\n",
    "\n",
    "    accuracy = np.mean(acc)\n",
    "    k_accuracies[k] = accuracy\n",
    "    \n",
    "OrderedDict(sorted(k_accuracies.items(), key=itemgetter(1), reverse=True))"
   ]
  },
  {
   "cell_type": "code",
   "execution_count": 141,
   "metadata": {
    "collapsed": false
   },
   "outputs": [
    {
     "data": {
      "text/plain": [
       "[<matplotlib.lines.Line2D at 0x7f3aaa8a25c0>]"
      ]
     },
     "execution_count": 141,
     "metadata": {},
     "output_type": "execute_result"
    },
    {
     "data": {
      "image/png": "[encoded data removed]",
      "text/plain": [
       "<matplotlib.figure.Figure at 0x7f3aaa8c6668>"
      ]
     },
     "metadata": {},
     "output_type": "display_data"
    }
   ],
   "source": [
    "x = list(k_accuracies.values())\n",
    "y = list(k_accuracies.keys())\n",
    "\n",
    "plt.plot(y, x)"
   ]
  },
  {
   "cell_type": "markdown",
   "metadata": {},
   "source": [
    "# 2. SVM with RBF kernel"
   ]
  },
  {
   "cell_type": "code",
   "execution_count": 174,
   "metadata": {
    "collapsed": false
   },
   "outputs": [
    {
     "name": "stdout",
     "output_type": "stream",
     "text": [
      "Best accuracy: 0.886363636364 {'gamma': 0.01, 'C': 5, 'kernel': 'rbf'}\n"
     ]
    }
   ],
   "source": [
    "parameters = {'kernel':['rbf'], 'C':[0.1, 0.5, 1, 2, 5,10, 20, 50], 'gamma': [0.01, 0.05, 0.1, 0.5, 1, 2, 5, 10]}\n",
    "svr = SVC()\n",
    "clf = GridSearchCV(svr, parameters, cv=5)\n",
    "clf.fit(X_train, y_train)\n",
    "print(\"Best accuracy:\", clf.best_score_,  clf.best_params_)"
   ]
  },
  {
   "cell_type": "markdown",
   "metadata": {},
   "source": [
    "## Classifying using the test set with the best parameters"
   ]
  },
  {
   "cell_type": "code",
   "execution_count": 178,
   "metadata": {
    "collapsed": false
   },
   "outputs": [
    {
     "name": "stdout",
     "output_type": "stream",
     "text": [
      "KNN test accuracy: 0.717272727273\n",
      "SVM test accuracy 0.898181818182\n"
     ]
    }
   ],
   "source": [
    "knn = KNeighborsClassifier(n_neighbors=7)\n",
    "\n",
    "knn.fit(X_train, y_train)\n",
    "knn_acc = knn.score(X_test, y_test)\n",
    "\n",
    "svm = SVC(kernel='rbf', C=5, gamma=0.01)\n",
    "svm.fit(X_train, y_train)\n",
    "svm_acc = svm.score(X_test, y_test)\n",
    "\n",
    "print(\"KNN test accuracy:\", knn_acc)\n",
    "print(\"SVM test accuracy\", svm_acc)"
   ]
  },
  {
   "cell_type": "markdown",
   "metadata": {},
   "source": [
    "# 3. Decision Trees"
   ]
  },
  {
   "cell_type": "code",
   "execution_count": 182,
   "metadata": {
    "collapsed": false
   },
   "outputs": [
    {
     "name": "stdout",
     "output_type": "stream",
     "text": [
      "Decision tree test accuracy: 0.915454545455\n"
     ]
    }
   ],
   "source": [
    "clf = tree.DecisionTreeClassifier()\n",
    "\n",
    "clf.fit(X_train, y_train)\n",
    "dt_acc = clf.score(X_test, y_test)\n",
    "print(\"Decision tree test accuracy:\", dt_acc)"
   ]
  },
  {
   "cell_type": "markdown",
   "metadata": {},
   "source": [
    "# 4. Random Forests"
   ]
  },
  {
   "cell_type": "code",
   "execution_count": 188,
   "metadata": {
    "collapsed": false
   },
   "outputs": [
    {
     "name": "stdout",
     "output_type": "stream",
     "text": [
      "Decision tree test accuracy: 0.936363636364\n"
     ]
    }
   ],
   "source": [
    "randomforest = RandomForestClassifier()\n",
    "\n",
    "randomforest.fit(X_train, y_train)\n",
    "dt_acc = randomforest.score(X_test, y_test)\n",
    "print(\"Decision tree test accuracy:\", dt_acc)"
   ]
  },
  {
   "cell_type": "markdown",
   "metadata": {},
   "source": [
    "# 5. Neural network"
   ]
  },
  {
   "cell_type": "code",
   "execution_count": 231,
   "metadata": {
    "collapsed": false
   },
   "outputs": [
    {
     "name": "stdout",
     "output_type": "stream",
     "text": [
      "(1100, 2) (1100, 2)\n",
      " 832/1100 [=====================>........] - ETA: 0s\n",
      "Neural network accuracy: 0.907272727273\n"
     ]
    }
   ],
   "source": [
    "# One-hot encode labels\n",
    "y_train_onehot = np_utils.to_categorical(y_train)\n",
    "y_test_onehot = np_utils.to_categorical(y_test)\n",
    "    \n",
    "num_features = features.shape[1]\n",
    "num_classes = len(np.unique(labels))\n",
    "\n",
    "print(y_train_onehot.shape, y_test_onehot.shape)\n",
    "\n",
    "model = Sequential()\n",
    "model.add(Dense(num_features, input_dim=num_features, init='normal', activation='relu'))\n",
    "model.add(Dense(num_classes, init='normal', activation='softmax'))\n",
    "model.compile(loss='categorical_crossentropy', optimizer='adam', metrics=['accuracy'])\n",
    "\n",
    "model.fit(X_train, y_train_onehot, validation_data=(X_test, y_test_onehot), nb_epoch=100, batch_size=50, verbose=0)\n",
    "\n",
    "loss, nn_acc = model.evaluate(X_test, y_test_onehot)\n",
    "\n",
    "print(\"\\nNeural network accuracy:\", nn_acc)"
   ]
  },
  {
   "cell_type": "markdown",
   "metadata": {},
   "source": [
    "# 6. Auto-encoder"
   ]
  },
  {
   "cell_type": "code",
   "execution_count": 523,
   "metadata": {
    "collapsed": false
   },
   "outputs": [
    {
     "data": {
      "text/plain": [
       "0.5"
      ]
     },
     "execution_count": 523,
     "metadata": {},
     "output_type": "execute_result"
    }
   ],
   "source": [
    "input_layer = Input(shape=(num_features,))\n",
    "\n",
    "encoded = Dense(32, activation='relu')(input_layer)\n",
    "encoded = Dense(16, activation='relu')(encoded)\n",
    "encoded = Dense(8, activation='relu')(encoded)\n",
    "encoded = Dense(2, activation='relu')(encoded)\n",
    "encoder_output = Dense(2, activation='softmax')(encoded)\n",
    "\n",
    "decoded = Dense(8, activation='relu')(encoded)\n",
    "decoded = Dense(16, activation='relu')(decoded)\n",
    "decoded = Dense(32, activation='relu')(decoded)\n",
    "decoded = Dense(num_features, activation='sigmoid')(decoded)\n",
    "\n",
    "autoencoder = Model(input=input_layer, output=decoded)\n",
    "encoder = Model(input=input_layer, output=encoder_output)\n",
    "\n",
    "autoencoder.compile(optimizer='adam', loss='categorical_crossentropy', metrics=['accuracy'])\n",
    "\n",
    "autoencoder.fit(X_train, X_train,\n",
    "                nb_epoch=100,\n",
    "                batch_size=256,\n",
    "                shuffle=True,\n",
    "                validation_data=(X_test, X_test), verbose=0,\n",
    "                callbacks=[TensorBoard(log_dir='/tmp/autoencoder2')])\n",
    "\n",
    "y_pred = encoder.predict(X_test)\n",
    "y_pred = np.argmax(y_pred, axis=1)\n",
    "\n",
    "np.mean(y_pred == y_test)"
   ]
  },
  {
   "cell_type": "code",
   "execution_count": 541,
   "metadata": {
    "collapsed": false
   },
   "outputs": [
    {
     "data": {
      "text/plain": [
       "0.52181818181818185"
      ]
     },
     "execution_count": 541,
     "metadata": {},
     "output_type": "execute_result"
    }
   ],
   "source": [
    "# trying with sigmoid activation function and MSE loss\n",
    "\n",
    "input_layer = Input(shape=(num_features,))\n",
    "\n",
    "encoded = Dense(32, activation='sigmoid')(input_layer)\n",
    "encoded = Dense(16, activation='sigmoid')(encoded)\n",
    "encoded = Dense(8, activation='sigmoid')(encoded)\n",
    "encoded = Dense(2, activation='sigmoid')(encoded)\n",
    "encoder_output = Dense(2, activation='softmax')(encoded)\n",
    "\n",
    "decoded = Dense(8, activation='sigmoid')(encoded)\n",
    "decoded = Dense(16, activation='sigmoid')(decoded)\n",
    "decoded = Dense(32, activation='sigmoid')(decoded)\n",
    "decoded = Dense(num_features, activation='sigmoid')(decoded)\n",
    "\n",
    "autoencoder = Model(input=input_layer, output=decoded)\n",
    "encoder = Model(input=input_layer, output=encoder_output)\n",
    "\n",
    "autoencoder.compile(optimizer='adam', loss='mse', metrics=['accuracy'])\n",
    "\n",
    "autoencoder.fit(X_train, X_train,\n",
    "                nb_epoch=100,\n",
    "                batch_size=256,\n",
    "                shuffle=True,\n",
    "                validation_data=(X_test, X_test), verbose=0,\n",
    "                callbacks=[TensorBoard(log_dir='/tmp/autoencoder2')])\n",
    "\n",
    "y_pred = encoder.predict(X_test)\n",
    "y_pred = np.argmax(y_pred, axis=1)\n",
    "\n",
    "np.mean(y_pred == y_test)"
   ]
  },
  {
   "cell_type": "markdown",
   "metadata": {},
   "source": [
    "# Trying autoencoder classification on data D"
   ]
  },
  {
   "cell_type": "code",
   "execution_count": 481,
   "metadata": {
    "collapsed": false
   },
   "outputs": [
    {
     "name": "stdout",
     "output_type": "stream",
     "text": [
      "Epoch: 0001 cost= 1.336669803\n",
      "Epoch: 0002 cost= 1.252686620\n",
      "Epoch: 0003 cost= 1.194153786\n",
      "Epoch: 0004 cost= 1.153623581\n",
      "Epoch: 0005 cost= 1.114895344\n",
      "Epoch: 0006 cost= 1.075670719\n",
      "Epoch: 0007 cost= 1.042390943\n",
      "Epoch: 0008 cost= 1.020548820\n",
      "Epoch: 0009 cost= 1.011955380\n",
      "Epoch: 0010 cost= 1.009491205\n",
      "Epoch: 0011 cost= 1.008293152\n",
      "Epoch: 0012 cost= 1.007159948\n",
      "Epoch: 0013 cost= 1.005833626\n",
      "Epoch: 0014 cost= 1.004251361\n",
      "Epoch: 0015 cost= 1.002456307\n",
      "Epoch: 0016 cost= 1.000298738\n",
      "Epoch: 0017 cost= 0.997825623\n",
      "Epoch: 0018 cost= 0.995283306\n",
      "Epoch: 0019 cost= 0.992772877\n",
      "Epoch: 0020 cost= 0.990368605\n",
      "Epoch: 0021 cost= 0.988036036\n",
      "Epoch: 0022 cost= 0.985637069\n",
      "Epoch: 0023 cost= 0.983090162\n",
      "Epoch: 0024 cost= 0.980468512\n",
      "Epoch: 0025 cost= 0.977868617\n",
      "Epoch: 0026 cost= 0.975325406\n",
      "Epoch: 0027 cost= 0.972688615\n",
      "Epoch: 0028 cost= 0.970006168\n",
      "Epoch: 0029 cost= 0.967246771\n",
      "Epoch: 0030 cost= 0.964479506\n",
      "Epoch: 0031 cost= 0.961797357\n",
      "Epoch: 0032 cost= 0.959145308\n",
      "Epoch: 0033 cost= 0.956584752\n",
      "Epoch: 0034 cost= 0.954131424\n",
      "Epoch: 0035 cost= 0.951728404\n",
      "Epoch: 0036 cost= 0.949375927\n",
      "Epoch: 0037 cost= 0.947060347\n",
      "Epoch: 0038 cost= 0.944780469\n",
      "Epoch: 0039 cost= 0.942459345\n",
      "Epoch: 0040 cost= 0.940114617\n",
      "Epoch: 0041 cost= 0.937803864\n",
      "Epoch: 0042 cost= 0.935531616\n",
      "Epoch: 0043 cost= 0.933295429\n",
      "Epoch: 0044 cost= 0.931082487\n",
      "Epoch: 0045 cost= 0.928895772\n",
      "Epoch: 0046 cost= 0.926753402\n",
      "Epoch: 0047 cost= 0.924680531\n",
      "Epoch: 0048 cost= 0.922682524\n",
      "Epoch: 0049 cost= 0.920745969\n",
      "Epoch: 0050 cost= 0.918858230\n",
      "Epoch: 0051 cost= 0.917027056\n",
      "Epoch: 0052 cost= 0.915255785\n",
      "Epoch: 0053 cost= 0.913519740\n",
      "Epoch: 0054 cost= 0.911801159\n",
      "Epoch: 0055 cost= 0.910089731\n",
      "Epoch: 0056 cost= 0.908385277\n",
      "Epoch: 0057 cost= 0.906696141\n",
      "Epoch: 0058 cost= 0.905028045\n",
      "Epoch: 0059 cost= 0.903381348\n",
      "Epoch: 0060 cost= 0.901751399\n",
      "Epoch: 0061 cost= 0.900146723\n",
      "Epoch: 0062 cost= 0.898577094\n",
      "Epoch: 0063 cost= 0.897025645\n",
      "Epoch: 0064 cost= 0.895515859\n",
      "Epoch: 0065 cost= 0.894062638\n",
      "Epoch: 0066 cost= 0.892656982\n",
      "Epoch: 0067 cost= 0.891284168\n",
      "Epoch: 0068 cost= 0.889931738\n",
      "Epoch: 0069 cost= 0.888602316\n",
      "Epoch: 0070 cost= 0.887305737\n",
      "Epoch: 0071 cost= 0.886041224\n",
      "Epoch: 0072 cost= 0.884807765\n",
      "Epoch: 0073 cost= 0.883597910\n",
      "Epoch: 0074 cost= 0.882409036\n",
      "Epoch: 0075 cost= 0.881244063\n",
      "Epoch: 0076 cost= 0.880106747\n",
      "Epoch: 0077 cost= 0.879000902\n",
      "Epoch: 0078 cost= 0.877924144\n",
      "Epoch: 0079 cost= 0.876874804\n",
      "Epoch: 0080 cost= 0.875850499\n",
      "Epoch: 0081 cost= 0.874845803\n",
      "Epoch: 0082 cost= 0.873857915\n",
      "Epoch: 0083 cost= 0.872883856\n",
      "Epoch: 0084 cost= 0.871920824\n",
      "Epoch: 0085 cost= 0.870965719\n",
      "Epoch: 0086 cost= 0.870014966\n",
      "Epoch: 0087 cost= 0.869067967\n",
      "Epoch: 0088 cost= 0.868120909\n",
      "Epoch: 0089 cost= 0.867171168\n",
      "Epoch: 0090 cost= 0.866214991\n",
      "Epoch: 0091 cost= 0.865252018\n",
      "Epoch: 0092 cost= 0.864278495\n",
      "Epoch: 0093 cost= 0.863299608\n",
      "Epoch: 0094 cost= 0.862332821\n",
      "Epoch: 0095 cost= 0.861398280\n",
      "Epoch: 0096 cost= 0.860499620\n",
      "Epoch: 0097 cost= 0.859628379\n",
      "Epoch: 0098 cost= 0.858773232\n",
      "Epoch: 0099 cost= 0.857928455\n",
      "Epoch: 0100 cost= 0.857096374\n",
      "Optimization Finished!\n",
      "0.518182\n"
     ]
    }
   ],
   "source": [
    "import tensorflow as tf\n",
    "import time\n",
    "\n",
    "# Parameters\n",
    "learning_rate = 0.01\n",
    "training_epochs = 100\n",
    "batch_size = 256\n",
    "display_step = 1\n",
    "examples_to_show = 10\n",
    "\n",
    "# Network Parameters\n",
    "n_hidden_1 = 32 # 1st layer num features\n",
    "n_hidden_2 = 16 # 2nd layer num features\n",
    "\n",
    "# tf Graph input (only pictures)\n",
    "X = tf.placeholder(\"float\", [None, num_features])\n",
    "y = tf.placeholder(\"float\", [None, num_classes])\n",
    "\n",
    "weights = {\n",
    "    'encoder_h1': tf.Variable(tf.random_normal([num_features, n_hidden_1])),\n",
    "    'encoder_h2': tf.Variable(tf.random_normal([n_hidden_1, n_hidden_2])),\n",
    "    'decoder_h1': tf.Variable(tf.random_normal([n_hidden_2, n_hidden_1])),\n",
    "    'decoder_h2': tf.Variable(tf.random_normal([n_hidden_1, num_features])),\n",
    "}\n",
    "biases = {\n",
    "    'encoder_b1': tf.Variable(tf.random_normal([n_hidden_1])),\n",
    "    'encoder_b2': tf.Variable(tf.random_normal([n_hidden_2])),\n",
    "    'decoder_b1': tf.Variable(tf.random_normal([n_hidden_1])),\n",
    "    'decoder_b2': tf.Variable(tf.random_normal([num_features])),\n",
    "}\n",
    "\n",
    "\n",
    "# Building the encoder\n",
    "def encoder(x):\n",
    "    # Encoder Hidden layer with sigmoid activation #1\n",
    "    layer_1 = tf.nn.sigmoid(tf.add(tf.matmul(x, weights['encoder_h1']),\n",
    "                                   biases['encoder_b1']))\n",
    "    # Decoder Hidden layer with sigmoid activation #2\n",
    "    layer_2 = tf.nn.sigmoid(tf.add(tf.matmul(layer_1, weights['encoder_h2']),\n",
    "                                   biases['encoder_b2']))\n",
    "    return layer_2\n",
    "\n",
    "\n",
    "# Building the decoder\n",
    "def decoder(x):\n",
    "    # Encoder Hidden layer with sigmoid activation #1\n",
    "    layer_1 = tf.nn.sigmoid(tf.add(tf.matmul(x, weights['decoder_h1']),\n",
    "                                   biases['decoder_b1']))\n",
    "    # Decoder Hidden layer with sigmoid activation #2\n",
    "    layer_2 = tf.nn.sigmoid(tf.add(tf.matmul(layer_1, weights['decoder_h2']),\n",
    "                                   biases['decoder_b2']))\n",
    "    return layer_2\n",
    "\n",
    "# Construct model\n",
    "encoder_op = encoder(X)\n",
    "decoder_op = decoder(encoder_op)\n",
    "\n",
    "encoded = tf.add(tf.matmul(encoder_op, tf.Variable(tf.random_normal([16, 2]))),\n",
    "                                       tf.Variable(tf.random_normal([2])))\n",
    "\n",
    "is_correct_prediction = tf.equal(tf.argmax(tf.nn.softmax(encoded), 1), tf.argmax(y, 1))\n",
    "encoded_accuracy = tf.reduce_mean(tf.cast(is_correct_prediction, tf.float32))\n",
    "\n",
    "# Prediction\n",
    "y_pred = decoder_op\n",
    "# Targets (Labels) are the input data.\n",
    "y_true = X\n",
    "\n",
    "# Define loss and optimizer, minimize the squared error\n",
    "cost = tf.reduce_mean(tf.pow(y_true - y_pred, 2))\n",
    "#optimizer = tf.train.RMSPropOptimizer(learning_rate).minimize(cost)\n",
    "optimizer = tf.train.AdamOptimizer(learning_rate).minimize(cost)\n",
    "\n",
    "# Initializing the variables\n",
    "init = tf.initialize_all_variables()\n",
    "\n",
    "# Launch the graph\n",
    "with tf.Session() as sess:\n",
    "    sess.run(init)\n",
    "    # Training cycle\n",
    "\n",
    "    total_batches = int(len(X_train)/batch_size)\n",
    "    for epoch in range(training_epochs):\n",
    "        start_time = time.time()\n",
    "        for i in range(total_batches):\n",
    "            batch_start = i * batch_size\n",
    "            batch_xs = X_train[batch_start:batch_start + batch_size]\n",
    "            batch_ys = y_train_onehot[batch_start:batch_start + batch_size]                 \n",
    "                 \n",
    "            # Run optimization op (backprop) and cost op (to get loss value)\n",
    "            _, c = sess.run([optimizer, cost], feed_dict={X: batch_xs, y: batch_ys})\n",
    "                 \n",
    "        # Display logs per epoch step\n",
    "        if epoch % display_step == 0:\n",
    "            print(\"Epoch:\", '%04d' % (epoch+1),\n",
    "                  \"cost=\", \"{:.9f}\".format(c))\n",
    "\n",
    "    print(\"Optimization Finished!\")\n",
    "\n",
    "    # Applying encode and decode over test set\n",
    "    encode_decode = sess.run(\n",
    "        encoded_accuracy, feed_dict={X: X_test, y: y_test_onehot})\n",
    "    print(encode_decode)"
   ]
  },
  {
   "cell_type": "markdown",
   "metadata": {},
   "source": [
    "# Trying autoencoder classification on MNIST with tensorflow"
   ]
  },
  {
   "cell_type": "code",
   "execution_count": 520,
   "metadata": {
    "collapsed": false
   },
   "outputs": [
    {
     "name": "stdout",
     "output_type": "stream",
     "text": [
      "Extracting MNIST_data/train-images-idx3-ubyte.gz\n",
      "Extracting MNIST_data/train-labels-idx1-ubyte.gz\n",
      "Extracting MNIST_data/t10k-images-idx3-ubyte.gz\n",
      "Extracting MNIST_data/t10k-labels-idx1-ubyte.gz\n",
      "Epoch: 0001 cost= 0.253676355\n",
      "Epoch: 0002 cost= 0.200106621\n",
      "Epoch: 0003 cost= 0.192717686\n",
      "Epoch: 0004 cost= 0.184969246\n",
      "Epoch: 0005 cost= 0.177645281\n",
      "Epoch: 0006 cost= 0.172374323\n",
      "Epoch: 0007 cost= 0.164328590\n",
      "Epoch: 0008 cost= 0.157008827\n",
      "Epoch: 0009 cost= 0.154211685\n",
      "Epoch: 0010 cost= 0.148820564\n",
      "Epoch: 0011 cost= 0.144056618\n",
      "Epoch: 0012 cost= 0.141940832\n",
      "Epoch: 0013 cost= 0.141294226\n",
      "Epoch: 0014 cost= 0.137545466\n",
      "Epoch: 0015 cost= 0.135654584\n",
      "Epoch: 0016 cost= 0.133354381\n",
      "Epoch: 0017 cost= 0.132716447\n",
      "Epoch: 0018 cost= 0.130840629\n",
      "Epoch: 0019 cost= 0.131154001\n",
      "Epoch: 0020 cost= 0.128292441\n",
      "Optimization Finished!\n"
     ]
    },
    {
     "name": "stderr",
     "output_type": "stream",
     "text": [
      "/home/olivier/anaconda3/lib/python3.5/site-packages/matplotlib/figure.py:397: UserWarning: matplotlib is currently using a non-GUI backend, so cannot show the figure\n",
      "  \"matplotlib is currently using a non-GUI backend, \"\n"
     ]
    },
    {
     "name": "stdout",
     "output_type": "stream",
     "text": [
      "0.0876\n"
     ]
    },
    {
     "data": {
      "image/png": "[encoded data removed]",
      "text/plain": [
       "<matplotlib.figure.Figure at 0x7f3a1d5d2a90>"
      ]
     },
     "metadata": {},
     "output_type": "display_data"
    }
   ],
   "source": [
    "# Import MNIST data\n",
    "from tensorflow.examples.tutorials.mnist import input_data\n",
    "mnist = input_data.read_data_sets(\"MNIST_data\", one_hot=True)\n",
    "\n",
    "# Parameters\n",
    "learning_rate = 0.01\n",
    "training_epochs = 20\n",
    "batch_size = 256\n",
    "display_step = 1\n",
    "examples_to_show = 10\n",
    "\n",
    "# Network Parameters\n",
    "n_hidden_1 = 256 # 1st layer num features\n",
    "n_hidden_2 = 128 # 2nd layer num features\n",
    "n_input = 784 # MNIST data input (img shape: 28*28)\n",
    "n_classes = 10\n",
    "\n",
    "# tf Graph input (only pictures)\n",
    "X = tf.placeholder(\"float\", [None, n_input])\n",
    "y = tf.placeholder(\"float\", [None, n_classes])\n",
    "\n",
    "weights = {\n",
    "    'encoder_h1': tf.Variable(tf.random_normal([n_input, n_hidden_1])),\n",
    "    'encoder_h2': tf.Variable(tf.random_normal([n_hidden_1, n_hidden_2])),\n",
    "    'encoder_h3': tf.Variable(tf.random_normal([n_hidden_2, n_classes])),    \n",
    "    'decoder_h1': tf.Variable(tf.random_normal([n_classes, n_hidden_2])),\n",
    "    'decoder_h2': tf.Variable(tf.random_normal([n_hidden_2, n_hidden_1])),\n",
    "    'decoder_h3': tf.Variable(tf.random_normal([n_hidden_1, n_input])),    \n",
    "}\n",
    "biases = {\n",
    "    'encoder_b1': tf.Variable(tf.random_normal([n_hidden_1])),\n",
    "    'encoder_b2': tf.Variable(tf.random_normal([n_hidden_2])),\n",
    "    'encoder_b3': tf.Variable(tf.random_normal([n_classes])),\n",
    "    'decoder_b1': tf.Variable(tf.random_normal([n_hidden_2])),    \n",
    "    'decoder_b2': tf.Variable(tf.random_normal([n_hidden_1])),\n",
    "    'decoder_b3': tf.Variable(tf.random_normal([n_input])),\n",
    "}\n",
    "\n",
    "\n",
    "# Building the encoder\n",
    "def encoder(x):\n",
    "    # Encoder Hidden layer with sigmoid activation #1\n",
    "    layer_1 = tf.nn.sigmoid(tf.add(tf.matmul(x, weights['encoder_h1']),\n",
    "                                   biases['encoder_b1']))\n",
    "    # Decoder Hidden layer with sigmoid activation #2\n",
    "    layer_2 = tf.nn.sigmoid(tf.add(tf.matmul(layer_1, weights['encoder_h2']),\n",
    "                                   biases['encoder_b2']))\n",
    "    \n",
    "    layer_3 = tf.add(tf.matmul(layer_2, weights['encoder_h3']),\n",
    "                                   biases['encoder_b3'])    \n",
    "    return layer_3\n",
    "\n",
    "\n",
    "# Building the decoder\n",
    "def decoder(x):\n",
    "    # Encoder Hidden layer with sigmoid activation #1\n",
    "    layer_1 = tf.nn.sigmoid(tf.add(tf.matmul(x, weights['decoder_h1']),\n",
    "                                   biases['decoder_b1']))\n",
    "    # Decoder Hidden layer with sigmoid activation #2\n",
    "    layer_2 = tf.nn.sigmoid(tf.add(tf.matmul(layer_1, weights['decoder_h2']),\n",
    "                                   biases['decoder_b2']))\n",
    "    \n",
    "    # Decoder Hidden layer with sigmoid activation #2\n",
    "    layer_3 = tf.nn.sigmoid(tf.add(tf.matmul(layer_2, weights['decoder_h3']),\n",
    "                                   biases['decoder_b3']))\n",
    "    \n",
    "    return layer_3\n",
    "\n",
    "# Construct model\n",
    "encoder_op = encoder(X)\n",
    "decoder_op = decoder(tf.nn.sigmoid(encoder_op))\n",
    "\n",
    "is_correct_prediction = tf.equal(tf.argmax(tf.nn.softmax(encoder_op), 1), tf.argmax(y, 1))\n",
    "encoded_accuracy = tf.reduce_mean(tf.cast(is_correct_prediction, tf.float32))\n",
    "\n",
    "# Prediction\n",
    "y_pred = decoder_op\n",
    "# Targets (Labels) are the input data.\n",
    "y_true = X\n",
    "\n",
    "# Define loss and optimizer, minimize the squared error\n",
    "cost = tf.reduce_mean(tf.pow(y_true - y_pred, 2))\n",
    "optimizer = tf.train.RMSPropOptimizer(learning_rate).minimize(cost)\n",
    "\n",
    "#cost = tf.reduce_mean(tf.nn.softmax_cross_entropy_with_logits(y_pred, y_true))\n",
    "#optimizer = tf.train.AdadeltaOptimizer(learning_rate).minimize(cost)\n",
    "\n",
    "# Initializing the variables\n",
    "init = tf.initialize_all_variables()\n",
    "\n",
    "# Launch the graph\n",
    "with tf.Session() as sess:\n",
    "    sess.run(init)\n",
    "    total_batch = int(mnist.train.num_examples/batch_size)\n",
    "    # Training cycle\n",
    "    for epoch in range(training_epochs):\n",
    "        # Loop over all batches\n",
    "        for i in range(total_batch):\n",
    "            batch_xs, batch_ys = mnist.train.next_batch(batch_size)\n",
    "            # Run optimization op (backprop) and cost op (to get loss value)\n",
    "            _, c = sess.run([optimizer, cost], feed_dict={X: batch_xs})\n",
    "        # Display logs per epoch step\n",
    "        if epoch % display_step == 0:\n",
    "            print(\"Epoch:\", '%04d' % (epoch+1),\n",
    "                  \"cost=\", \"{:.9f}\".format(c))\n",
    "\n",
    "    print(\"Optimization Finished!\")\n",
    "\n",
    "    # Applying encode and decode over test set\n",
    "    encoding_accuracy = sess.run(\n",
    "        encoded_accuracy, feed_dict={X: mnist.test.images, y: mnist.test.labels})\n",
    "\n",
    "    # Applying encode and decode over test set\n",
    "    encode_decode = sess.run(\n",
    "        y_pred, feed_dict={X: mnist.test.images[:examples_to_show]})\n",
    "    # Compare original images with their reconstructions\n",
    "    f, a = plt.subplots(2, 10, figsize=(10, 2))\n",
    "    for i in range(examples_to_show):\n",
    "        a[0][i].imshow(np.reshape(mnist.test.images[i], (28, 28)))\n",
    "        a[1][i].imshow(np.reshape(encode_decode[i], (28, 28)))\n",
    "    f.show()\n",
    "    plt.draw()    \n",
    "    \n",
    "    print(encoding_accuracy)"
   ]
  },
  {
   "cell_type": "code",
   "execution_count": 504,
   "metadata": {
    "collapsed": false
   },
   "outputs": [
    {
     "name": "stdout",
     "output_type": "stream",
     "text": [
      "0.0519\n"
     ]
    }
   ],
   "source": [
    "print(encoding_accuracy)"
   ]
  }
 ],
 "metadata": {
  "anaconda-cloud": {},
  "kernelspec": {
   "display_name": "Python [conda root]",
   "language": "python",
   "name": "conda-root-py"
  },
  "language_info": {
   "codemirror_mode": {
    "name": "ipython",
    "version": 3
   },
   "file_extension": ".py",
   "mimetype": "text/x-python",
   "name": "python",
   "nbconvert_exporter": "python",
   "pygments_lexer": "ipython3",
   "version": "3.5.2"
  }
 },
 "nbformat": 4,
 "nbformat_minor": 1
}
