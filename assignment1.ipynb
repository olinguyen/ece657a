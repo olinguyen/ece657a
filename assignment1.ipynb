{
 "cells": [
  {
   "cell_type": "code",
   "execution_count": 9,
   "metadata": {
    "collapsed": true
   },
   "outputs": [],
   "source": [
    "import h5py\n",
    "import numpy as np\n",
    "import scipy.io"
   ]
  },
  {
   "cell_type": "code",
   "execution_count": 28,
   "metadata": {
    "collapsed": false
   },
   "outputs": [
    {
     "name": "stdout",
     "output_type": "stream",
     "text": [
      "Succesfully loaded data!\n",
      "Data A shape: (19000, 81)\n",
      "Data B shape: (19000, 81)\n",
      "Data C shape: (19000, 81)\n"
     ]
    }
   ],
   "source": [
    "dataA = scipy.io.loadmat('./DataA.mat')\n",
    "dataB = scipy.io.loadmat('./DataB.mat')\n",
    "dataC = scipy.io.loadmat('./DataC.mat')\n",
    "\n",
    "print('Succesfully loaded data!')\n",
    "print(\"Data A shape:\", dataA['fea'].shape)\n",
    "print(\"Data B shape:\", dataA['fea'].shape)\n",
    "print(\"Data C shape:\", dataA['fea'].shape)"
   ]
  },
  {
   "cell_type": "code",
   "execution_count": 32,
   "metadata": {
    "collapsed": false
   },
   "outputs": [
    {
     "data": {
      "text/plain": [
       "{'__globals__': [],\n",
       " '__header__': b'MATLAB 5.0 MAT-file, Platform: PCWIN64, Created on: Thu Sep 11 17:22:27 2014',\n",
       " '__version__': '1.0',\n",
       " 'fea': array([[  1.51000000e+02,   0.00000000e+00,   0.00000000e+00, ...,\n",
       "           1.51000000e+02,   9.00000000e+00,   1.00000000e+00],\n",
       "        [  1.50000000e+02,   0.00000000e+00,   0.00000000e+00, ...,\n",
       "           1.51000000e+02,   1.00000000e+01,   1.00000000e+00],\n",
       "        [  1.31000000e+02,   5.00000000e-03,   7.20000000e-02, ...,\n",
       "           1.37000000e+02,   7.00000000e+00,   1.00000000e+00],\n",
       "        ..., \n",
       "        [  1.36000000e+02,   0.00000000e+00,   1.00000000e-03, ...,\n",
       "           1.38000000e+02,   1.00000000e+00,   1.00000000e+00],\n",
       "        [  1.36000000e+02,   0.00000000e+00,   3.00000000e-03, ...,\n",
       "           1.36000000e+02,   2.00000000e+00,   1.00000000e+00],\n",
       "        [  1.36000000e+02,   0.00000000e+00,   1.00000000e-03, ...,\n",
       "           1.36000000e+02,   2.00000000e+00,   1.00000000e+00]]),\n",
       " 'gnd': array([[2],\n",
       "        [2],\n",
       "        [1],\n",
       "        ..., \n",
       "        [1],\n",
       "        [1],\n",
       "        [1]], dtype=uint8)}"
      ]
     },
     "execution_count": 32,
     "metadata": {},
     "output_type": "execute_result"
    }
   ],
   "source": [
    "dataC"
   ]
  }
 ],
 "metadata": {
  "anaconda-cloud": {},
  "kernelspec": {
   "display_name": "Python [conda root]",
   "language": "python",
   "name": "conda-root-py"
  },
  "language_info": {
   "codemirror_mode": {
    "name": "ipython",
    "version": 3
   },
   "file_extension": ".py",
   "mimetype": "text/x-python",
   "name": "python",
   "nbconvert_exporter": "python",
   "pygments_lexer": "ipython3",
   "version": "3.5.2"
  }
 },
 "nbformat": 4,
 "nbformat_minor": 1
}
